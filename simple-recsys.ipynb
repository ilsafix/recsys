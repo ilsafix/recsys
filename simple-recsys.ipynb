{
 "cells": [
  {
   "cell_type": "markdown",
   "metadata": {},
   "source": [
    "## User-to-user collaborative filtering"
   ]
  },
  {
   "cell_type": "markdown",
   "metadata": {},
   "source": [
    "*Source: https://github.com/nzhinusoftcm/review-on-collaborative-filtering/blob/master/2.User-basedCollaborativeFiltering.ipynb**"
   ]
  },
  {
   "cell_type": "markdown",
   "metadata": {},
   "source": [
    "### Import requirements"
   ]
  },
  {
   "cell_type": "code",
   "execution_count": null,
   "metadata": {},
   "outputs": [],
   "source": [
    "import os\n",
    "\n",
    "if not (os.path.exists(\"recsys.zip\") or os.path.exists(\"recsys\")):\n",
    "    !wget https://github.com/nzhinusoftcm/review-on-collaborative-filtering/raw/master/recsys.zip    \n",
    "    !unzip recsys.zip"
   ]
  },
  {
   "cell_type": "code",
   "execution_count": 1,
   "metadata": {},
   "outputs": [],
   "source": [
    "import numpy as np\n",
    "import pandas as pd\n",
    "import tqdm.notebook\n",
    "from recsys.datasets import mlLatestSmall\n",
    "from sklearn.preprocessing import LabelEncoder\n",
    "from sklearn.model_selection import train_test_split as sklearn_train_test_split\n",
    "import typing as tp\n",
    "from functools import lru_cache"
   ]
  },
  {
   "cell_type": "markdown",
   "metadata": {},
   "source": [
    "**Load MovieLens ratings**"
   ]
  },
  {
   "cell_type": "code",
   "execution_count": 2,
   "metadata": {},
   "outputs": [],
   "source": [
    "ratings, movies = mlLatestSmall.load()"
   ]
  },
  {
   "cell_type": "code",
   "execution_count": 3,
   "metadata": {},
   "outputs": [
    {
     "data": {
      "text/html": [
       "<div>\n",
       "<style scoped>\n",
       "    .dataframe tbody tr th:only-of-type {\n",
       "        vertical-align: middle;\n",
       "    }\n",
       "\n",
       "    .dataframe tbody tr th {\n",
       "        vertical-align: top;\n",
       "    }\n",
       "\n",
       "    .dataframe thead th {\n",
       "        text-align: right;\n",
       "    }\n",
       "</style>\n",
       "<table border=\"1\" class=\"dataframe\">\n",
       "  <thead>\n",
       "    <tr style=\"text-align: right;\">\n",
       "      <th></th>\n",
       "      <th>userid</th>\n",
       "      <th>itemid</th>\n",
       "      <th>rating</th>\n",
       "    </tr>\n",
       "  </thead>\n",
       "  <tbody>\n",
       "    <tr>\n",
       "      <th>100831</th>\n",
       "      <td>610</td>\n",
       "      <td>166534</td>\n",
       "      <td>4.0</td>\n",
       "    </tr>\n",
       "    <tr>\n",
       "      <th>100832</th>\n",
       "      <td>610</td>\n",
       "      <td>168248</td>\n",
       "      <td>5.0</td>\n",
       "    </tr>\n",
       "    <tr>\n",
       "      <th>100833</th>\n",
       "      <td>610</td>\n",
       "      <td>168250</td>\n",
       "      <td>5.0</td>\n",
       "    </tr>\n",
       "    <tr>\n",
       "      <th>100834</th>\n",
       "      <td>610</td>\n",
       "      <td>168252</td>\n",
       "      <td>5.0</td>\n",
       "    </tr>\n",
       "    <tr>\n",
       "      <th>100835</th>\n",
       "      <td>610</td>\n",
       "      <td>170875</td>\n",
       "      <td>3.0</td>\n",
       "    </tr>\n",
       "  </tbody>\n",
       "</table>\n",
       "</div>"
      ],
      "text/plain": [
       "        userid  itemid  rating\n",
       "100831     610  166534     4.0\n",
       "100832     610  168248     5.0\n",
       "100833     610  168250     5.0\n",
       "100834     610  168252     5.0\n",
       "100835     610  170875     3.0"
      ]
     },
     "execution_count": 3,
     "metadata": {},
     "output_type": "execute_result"
    }
   ],
   "source": [
    "ratings = ratings.drop(\"timestamp\", axis=1)\n",
    "ratings.tail()"
   ]
  },
  {
   "cell_type": "markdown",
   "metadata": {},
   "source": [
    "My favourite movies:\n",
    "1. Interstellar (2014)\n",
    "2. Inception (2010)\n",
    "3. The Intouchables (2011)\n",
    "4. Howl's Moving Castle (2004)\n",
    "5. Hachiko: A Dog's Story (2009)\n",
    "6. Drive (2011)\n",
    "7. The Prestige (2006)\n",
    "8. A Beautiful Mind (2001)\n",
    "9. Blade Runner 2049 (2017)\n",
    "10. Avatar (2009)\n"
   ]
  },
  {
   "cell_type": "code",
   "execution_count": 4,
   "metadata": {},
   "outputs": [],
   "source": [
    "# movies[movies['title'].str.contains('Drive')]"
   ]
  },
  {
   "cell_type": "code",
   "execution_count": 5,
   "metadata": {},
   "outputs": [],
   "source": [
    "# itemid: rating\n",
    "fav_movies = {\n",
    "    109487: 5.0,\n",
    "    79132: 5.0,\n",
    "    92259: 5.0,\n",
    "    31658: 5.0,\n",
    "    73290: 5.0,\n",
    "    88129: 4.5,\n",
    "    48780: 5.0,\n",
    "    4995: 4.5,\n",
    "    176371: 4.5,\n",
    "    72998: 5.0\n",
    "}\n",
    "\n",
    "userid = ratings.userid.max() + 1\n",
    "\n",
    "for itemid, rating in fav_movies.items():\n",
    "    new_record = pd.DataFrame([{'userid': userid, 'itemid': itemid, 'rating': rating}])\n",
    "    ratings = pd.concat([ratings, new_record], ignore_index=True)"
   ]
  },
  {
   "cell_type": "code",
   "execution_count": 6,
   "metadata": {},
   "outputs": [
    {
     "data": {
      "text/html": [
       "<div>\n",
       "<style scoped>\n",
       "    .dataframe tbody tr th:only-of-type {\n",
       "        vertical-align: middle;\n",
       "    }\n",
       "\n",
       "    .dataframe tbody tr th {\n",
       "        vertical-align: top;\n",
       "    }\n",
       "\n",
       "    .dataframe thead th {\n",
       "        text-align: right;\n",
       "    }\n",
       "</style>\n",
       "<table border=\"1\" class=\"dataframe\">\n",
       "  <thead>\n",
       "    <tr style=\"text-align: right;\">\n",
       "      <th></th>\n",
       "      <th>userid</th>\n",
       "      <th>itemid</th>\n",
       "      <th>rating</th>\n",
       "    </tr>\n",
       "  </thead>\n",
       "  <tbody>\n",
       "    <tr>\n",
       "      <th>100841</th>\n",
       "      <td>611</td>\n",
       "      <td>88129</td>\n",
       "      <td>4.5</td>\n",
       "    </tr>\n",
       "    <tr>\n",
       "      <th>100842</th>\n",
       "      <td>611</td>\n",
       "      <td>48780</td>\n",
       "      <td>5.0</td>\n",
       "    </tr>\n",
       "    <tr>\n",
       "      <th>100843</th>\n",
       "      <td>611</td>\n",
       "      <td>4995</td>\n",
       "      <td>4.5</td>\n",
       "    </tr>\n",
       "    <tr>\n",
       "      <th>100844</th>\n",
       "      <td>611</td>\n",
       "      <td>176371</td>\n",
       "      <td>4.5</td>\n",
       "    </tr>\n",
       "    <tr>\n",
       "      <th>100845</th>\n",
       "      <td>611</td>\n",
       "      <td>72998</td>\n",
       "      <td>5.0</td>\n",
       "    </tr>\n",
       "  </tbody>\n",
       "</table>\n",
       "</div>"
      ],
      "text/plain": [
       "        userid  itemid  rating\n",
       "100841     611   88129     4.5\n",
       "100842     611   48780     5.0\n",
       "100843     611    4995     4.5\n",
       "100844     611  176371     4.5\n",
       "100845     611   72998     5.0"
      ]
     },
     "execution_count": 6,
     "metadata": {},
     "output_type": "execute_result"
    }
   ],
   "source": [
    "ratings.tail()"
   ]
  },
  {
   "cell_type": "markdown",
   "metadata": {},
   "source": [
    "**Userids and Itemids encoding**"
   ]
  },
  {
   "cell_type": "code",
   "execution_count": 7,
   "metadata": {},
   "outputs": [],
   "source": [
    "def ids_encoder(ratings):\n",
    "    users = sorted(ratings['userid'].unique())\n",
    "    items = sorted(ratings['itemid'].unique())\n",
    "\n",
    "    # create users and items encoders\n",
    "    uencoder = LabelEncoder()\n",
    "    iencoder = LabelEncoder()\n",
    "\n",
    "    # fit users and items ids to the corresponding encoder\n",
    "    uencoder.fit(users)\n",
    "    iencoder.fit(items)\n",
    "\n",
    "    # encode userids and itemids\n",
    "    ratings.userid = uencoder.transform(ratings.userid.tolist())\n",
    "    ratings.itemid = iencoder.transform(ratings.itemid.tolist())\n",
    "\n",
    "    return ratings, uencoder, iencoder\n",
    "\n",
    "# create the encoder\n",
    "ratings, uencoder, iencoder = ids_encoder(ratings)"
   ]
  },
  {
   "cell_type": "code",
   "execution_count": 8,
   "metadata": {},
   "outputs": [],
   "source": [
    "np_ratings = ratings.to_numpy()"
   ]
  },
  {
   "cell_type": "code",
   "execution_count": 9,
   "metadata": {},
   "outputs": [
    {
     "data": {
      "text/plain": [
       "array([[0.000e+00, 0.000e+00, 4.000e+00],\n",
       "       [0.000e+00, 2.000e+00, 4.000e+00],\n",
       "       [0.000e+00, 5.000e+00, 4.000e+00],\n",
       "       ...,\n",
       "       [6.100e+02, 3.635e+03, 4.500e+00],\n",
       "       [6.100e+02, 9.586e+03, 4.500e+00],\n",
       "       [6.100e+02, 7.195e+03, 5.000e+00]])"
      ]
     },
     "execution_count": 9,
     "metadata": {},
     "output_type": "execute_result"
    }
   ],
   "source": [
    "np_ratings"
   ]
  },
  {
   "cell_type": "markdown",
   "metadata": {},
   "source": [
    "### Part 1\n",
    "Implement similarity functions for user2user collaborative filtering using the following similarity metrics:\n",
    "1. Jaccard's coefficient\n",
    "2. Dot product of common ratings\n",
    "3. Adjusted Pearson Correlation"
   ]
  },
  {
   "cell_type": "markdown",
   "metadata": {},
   "source": [
    "#### 1. Jaccard's coefficient"
   ]
  },
  {
   "cell_type": "code",
   "execution_count": 10,
   "metadata": {},
   "outputs": [],
   "source": [
    "def jaccard_similarity(\n",
    "        np_ratings: np.array, i: int, j: int\n",
    ")-> float:\n",
    "    \"\"\"\n",
    "    np_ratings: array containing: (user_id, item_id, rating)\n",
    "    i: index of the first user\n",
    "    j: index of the second user\n",
    "\n",
    "    Returns:\n",
    "        Jaccard similarity between users i and j\n",
    "    \"\"\"\n",
    "    if i == j:\n",
    "        return 1.0\n",
    "    \n",
    "    @lru_cache(2000)\n",
    "    def ratings_for_user(i):\n",
    "        return np_ratings[np_ratings[:, 0] == i]\n",
    "    \n",
    "    ratings_i, ratings_j = ratings_for_user(i), ratings_for_user(j)\n",
    "    intersection = len(np.intersect1d(ratings_i[:, 1], ratings_j[:, 1]))\n",
    "\n",
    "    if intersection == 0:\n",
    "        return -1.0\n",
    "    \n",
    "    union = (len(ratings_i) + len(ratings_j)) - intersection\n",
    "\n",
    "    return float(intersection) / union if union else -1.0"
   ]
  },
  {
   "cell_type": "code",
   "execution_count": 11,
   "metadata": {},
   "outputs": [
    {
     "data": {
      "text/plain": [
       "0.013333333333333334"
      ]
     },
     "execution_count": 11,
     "metadata": {},
     "output_type": "execute_result"
    }
   ],
   "source": [
    "jaccard_similarity(np_ratings, 1, 7)"
   ]
  },
  {
   "cell_type": "markdown",
   "metadata": {},
   "source": [
    "#### 2. Dot product of common ratings"
   ]
  },
  {
   "cell_type": "code",
   "execution_count": 12,
   "metadata": {},
   "outputs": [],
   "source": [
    "def dot_similarity(\n",
    "        np_ratings: np.array, i: int, j: int\n",
    ")-> float:\n",
    "    \"\"\"\n",
    "    np_ratings: array containing: (user_id, item_id, rating)\n",
    "    i: index of the first user\n",
    "    j: index of the second user\n",
    "\n",
    "    Returns:\n",
    "        Dot product similarity between users i and j\n",
    "    \"\"\"\n",
    "    if i == j:\n",
    "        return np.inf\n",
    "    \n",
    "    @lru_cache(2000)\n",
    "    def ratings_for_user(i):\n",
    "        return np_ratings[np_ratings[:, 0] == i]\n",
    "    \n",
    "    ratings_i, ratings_j = ratings_for_user(i), ratings_for_user(j)\n",
    "    common_items = np.intersect1d(ratings_i[:, 1], ratings_j[:, 1])\n",
    "    \n",
    "    if len(common_items) == 0:\n",
    "        return -1.0\n",
    "    \n",
    "    common_ratings_i = ratings_i[np.isin(ratings_i[:, 1], common_items)]\n",
    "    common_ratings_j = ratings_j[np.isin(ratings_j[:, 1], common_items)]\n",
    "    \n",
    "    return np.dot(common_ratings_i[:, 2], common_ratings_j[:, 2])"
   ]
  },
  {
   "cell_type": "code",
   "execution_count": 13,
   "metadata": {},
   "outputs": [
    {
     "data": {
      "text/plain": [
       "12.0"
      ]
     },
     "execution_count": 13,
     "metadata": {},
     "output_type": "execute_result"
    }
   ],
   "source": [
    "dot_similarity(np_ratings, 1, 608)"
   ]
  },
  {
   "cell_type": "markdown",
   "metadata": {},
   "source": [
    "#### 3. Adjusted Pearson Correlation"
   ]
  },
  {
   "cell_type": "code",
   "execution_count": 14,
   "metadata": {},
   "outputs": [],
   "source": [
    "def cosine(x: np.array, y: np.array) -> float:\n",
    "    if np.linalg.norm(x) == 0 or np.linalg.norm(y) == 0:\n",
    "        return 0\n",
    "\n",
    "    return np.dot(x, y) / (np.linalg.norm(x) * np.linalg.norm(y))"
   ]
  },
  {
   "cell_type": "code",
   "execution_count": 15,
   "metadata": {},
   "outputs": [],
   "source": [
    "def normalize(ratings) -> pd.DataFrame:\n",
    "    \"\"\"Normalize ratings by item\"\"\"\n",
    "    if type(ratings) == np.ndarray:\n",
    "        ratings = pd.DataFrame(ratings)\n",
    "        ratings.columns = [\"userid\", \"itemid\", \"rating\"]\n",
    "    # calculate mean for every item\n",
    "    mean = ratings.groupby(by=\"itemid\", as_index=False)[\"rating\"].mean()\n",
    "    norm_ratings = pd.merge(ratings, mean, suffixes=(\"\", \"_mean\"), on=\"itemid\")\n",
    "\n",
    "    # normalize each rating by substracting the mean rating of the corresponding item\n",
    "    norm_ratings[\"norm_rating\"] = norm_ratings[\"rating\"] - norm_ratings[\"rating_mean\"]\n",
    "\n",
    "    return norm_ratings[ratings.columns.tolist() + [\"norm_rating\"]]"
   ]
  },
  {
   "cell_type": "code",
   "execution_count": 16,
   "metadata": {},
   "outputs": [],
   "source": [
    "norm_ratings = normalize(ratings)\n",
    "np_ratings = norm_ratings.to_numpy()"
   ]
  },
  {
   "cell_type": "code",
   "execution_count": 17,
   "metadata": {},
   "outputs": [],
   "source": [
    "def pearson_similarity(\n",
    "        np_ratings: np.array, i: int, j: int\n",
    ")-> float:\n",
    "    \"\"\"\n",
    "    np_ratings: array containing: (user_id, item_id, rating, norm_rating)\n",
    "    i: index of the first user\n",
    "    j: index of the second user\n",
    "\n",
    "    Returns:\n",
    "        adjusted pearson correlation between users i and j\n",
    "    \"\"\"\n",
    "    if i == j:\n",
    "        return 1.0\n",
    "\n",
    "    @lru_cache(2000)\n",
    "    def ratings_for_user(i):\n",
    "        return np_ratings[np_ratings[:, 0] == i]\n",
    "    \n",
    "    ratings_i, ratings_j = ratings_for_user(i), ratings_for_user(j)\n",
    "    common_items = np.intersect1d(ratings_i[:, 1], ratings_j[:, 1])\n",
    "    \n",
    "    if len(common_items) == 0:\n",
    "        return -1.0\n",
    "    \n",
    "    common_ratings_i = ratings_i[np.isin(ratings_i[:, 1], common_items)]\n",
    "    common_ratings_j = ratings_j[np.isin(ratings_j[:, 1], common_items)]\n",
    "    x = common_ratings_i[:, 3]\n",
    "    y = common_ratings_j[:, 3]\n",
    "\n",
    "    return min(len(common_items) / 50, 1) * cosine(x, y)"
   ]
  },
  {
   "cell_type": "code",
   "execution_count": 18,
   "metadata": {},
   "outputs": [
    {
     "data": {
      "text/plain": [
       "-0.031136626488094992"
      ]
     },
     "execution_count": 18,
     "metadata": {},
     "output_type": "execute_result"
    }
   ],
   "source": [
    "pearson_similarity(np_ratings, 1, 610)"
   ]
  },
  {
   "cell_type": "markdown",
   "metadata": {},
   "source": [
    "**train/test split**"
   ]
  },
  {
   "cell_type": "code",
   "execution_count": 19,
   "metadata": {},
   "outputs": [],
   "source": [
    "def get_examples(dataframe, labels_column=\"rating\"):\n",
    "    examples = dataframe[['userid', 'itemid']].values\n",
    "    labels = dataframe[f'{labels_column}'].values\n",
    "    return examples, labels\n",
    "\n",
    "\n",
    "def train_test_split(examples, labels, test_size=0.1, verbose=0):\n",
    "    if verbose:\n",
    "        print(\"Train/Test split \")\n",
    "        print(100 - test_size * 100, \"% of training data\")\n",
    "        print(test_size * 100, \"% of testing data\")    \n",
    "\n",
    "    # split data into train and test sets\n",
    "    train_examples, test_examples, train_labels, test_labels = sklearn_train_test_split(\n",
    "        examples, \n",
    "        labels, \n",
    "        test_size=0.1, \n",
    "        random_state=42, \n",
    "        shuffle=True\n",
    "    )\n",
    "\n",
    "    # transform train and test examples to their corresponding one-hot representations\n",
    "    train_users = train_examples[:, 0]\n",
    "    test_users = test_examples[:, 0]\n",
    "\n",
    "    train_items = train_examples[:, 1]\n",
    "    test_items = test_examples[:, 1]\n",
    "\n",
    "    # Final training and test set\n",
    "    x_train = np.array(list(zip(train_users, train_items)))\n",
    "    x_test = np.array(list(zip(test_users, test_items)))\n",
    "\n",
    "    # Drop users which have less than 10 ratings\n",
    "    x_test_val_counts = pd.Series(x_test[:, 0]).value_counts()\n",
    "    drop_idx = x_test_val_counts[x_test_val_counts < 10].index\n",
    "    drop_cond = ~np.isin(x_test[:, 0], drop_idx)\n",
    "    x_test = x_test[drop_cond]\n",
    "    \n",
    "    y_train = train_labels\n",
    "    y_test = test_labels[drop_cond]\n",
    "\n",
    "    if verbose:\n",
    "        print()\n",
    "        print('number of training examples : ', x_train.shape)\n",
    "        print('number of training labels : ', y_train.shape)\n",
    "        print('number of test examples : ', x_test.shape)\n",
    "        print('number of test labels : ', y_test.shape)\n",
    "\n",
    "    return (x_train, x_test), (y_train, y_test)"
   ]
  },
  {
   "cell_type": "code",
   "execution_count": 20,
   "metadata": {},
   "outputs": [],
   "source": [
    "# get examples as tuples of userids and itemids and labels\n",
    "raw_examples, raw_labels = get_examples(ratings, labels_column='rating')\n",
    "\n",
    "# train test split\n",
    "(x_train, x_test), (y_train, y_test) = train_test_split(examples=raw_examples, labels=raw_labels)"
   ]
  },
  {
   "cell_type": "code",
   "execution_count": 21,
   "metadata": {},
   "outputs": [],
   "source": [
    "np_ratings = np.hstack((x_train, y_train[..., np.newaxis]))\n",
    "norm_ratings = normalize(np_ratings)\n",
    "np_ratings = norm_ratings.to_numpy()"
   ]
  },
  {
   "cell_type": "markdown",
   "metadata": {},
   "source": [
    "**Similarities calculation**"
   ]
  },
  {
   "cell_type": "code",
   "execution_count": 22,
   "metadata": {},
   "outputs": [],
   "source": [
    "def calculate_similaritites(\n",
    "    ratings, similarity_between_two: callable, n_neighbours=21\n",
    ") -> tp.Tuple[np.array, np.array]:\n",
    "    \"\"\"Computes correlation for users pairs\n",
    "    ratings: np.ndarray containing: (user_id, item_id, rating)\n",
    "    similarity_between_two: function to calculate similarity\n",
    "    \"\"\"\n",
    "\n",
    "    nb_users = np.unique(ratings[:, 0]).size\n",
    "    similarities = np.full((nb_users, nb_users), -1, dtype=float)\n",
    "    np.fill_diagonal(similarities, np.inf)\n",
    "\n",
    "    users = sorted(set(map(int, np_ratings[:, 0])))\n",
    "\n",
    "    with tqdm.notebook.tqdm(total=len(users) * (len(users) - 1) // 2) as pbar:\n",
    "        for i in range(len(users)):\n",
    "            for j in range(i + 1, len(users)):\n",
    "                sim = similarity_between_two(ratings, users[i], users[j])\n",
    "                similarities[users[i], users[j]] = sim\n",
    "                similarities[users[j], users[i]] = sim\n",
    "                pbar.update()\n",
    "\n",
    "    assert np.all(\n",
    "        similarities.T == similarities\n",
    "    ), \"Similarity matrix should be symmetrical\"\n",
    "\n",
    "    # get neighbors by their neighbors in decreasing order of similarities\n",
    "    neighbors = np.flip(np.argsort(similarities), axis=1)\n",
    "\n",
    "    # sort similarities in decreasing order\n",
    "    similarities = np.flip(np.sort(similarities), axis=1)\n",
    "\n",
    "    return similarities[:, 1:n_neighbours], neighbors[:, 1:n_neighbours]"
   ]
  },
  {
   "cell_type": "code",
   "execution_count": 23,
   "metadata": {},
   "outputs": [
    {
     "data": {
      "application/vnd.jupyter.widget-view+json": {
       "model_id": "8f19dbe5ba854e36bd12dbba78a1dd32",
       "version_major": 2,
       "version_minor": 0
      },
      "text/plain": [
       "  0%|          | 0/186355 [00:00<?, ?it/s]"
      ]
     },
     "metadata": {},
     "output_type": "display_data"
    }
   ],
   "source": [
    "similarities_jaccard, neighbors_jaccard = calculate_similaritites(np_ratings, jaccard_similarity)"
   ]
  },
  {
   "cell_type": "code",
   "execution_count": 24,
   "metadata": {},
   "outputs": [
    {
     "data": {
      "text/plain": [
       "(array([[0.19672131, 0.1890411 , 0.17665615, ..., 0.14977307, 0.14723926,\n",
       "         0.14647887],\n",
       "        [0.17777778, 0.16949153, 0.15789474, ..., 0.09150327, 0.09090909,\n",
       "         0.08928571],\n",
       "        [0.04411765, 0.03846154, 0.03773585, ..., 0.02739726, 0.02727273,\n",
       "         0.02702703],\n",
       "        ...,\n",
       "        [0.39534884, 0.37254902, 0.32653061, ..., 0.23809524, 0.2375    ,\n",
       "         0.23728814],\n",
       "        [0.2605042 , 0.23293608, 0.22642487, ..., 0.15571956, 0.15378671,\n",
       "         0.14956522],\n",
       "        [0.10714286, 0.0952381 , 0.08333333, ..., 0.05405405, 0.05376344,\n",
       "         0.05357143]]),\n",
       " array([[312, 329, 265, ..., 216, 606, 353],\n",
       "        [365, 377, 416, ..., 246,  29, 318],\n",
       "        [160, 531, 553, ...,  71, 243, 377],\n",
       "        ...,\n",
       "        [339, 125, 497, ..., 484, 178,   7],\n",
       "        [248, 379, 273, ..., 559,  61, 176],\n",
       "        [458, 580, 299, ...,  64, 600, 122]]))"
      ]
     },
     "execution_count": 24,
     "metadata": {},
     "output_type": "execute_result"
    }
   ],
   "source": [
    "similarities_jaccard, neighbors_jaccard"
   ]
  },
  {
   "cell_type": "code",
   "execution_count": 25,
   "metadata": {},
   "outputs": [
    {
     "data": {
      "application/vnd.jupyter.widget-view+json": {
       "model_id": "16d677df1a0048ba84bc33c7c35953dd",
       "version_major": 2,
       "version_minor": 0
      },
      "text/plain": [
       "  0%|          | 0/186355 [00:00<?, ?it/s]"
      ]
     },
     "metadata": {},
     "output_type": "display_data"
    }
   ],
   "source": [
    "similarities_dot, neighbors_dot = calculate_similaritites(np_ratings, dot_similarity)"
   ]
  },
  {
   "cell_type": "code",
   "execution_count": 26,
   "metadata": {},
   "outputs": [
    {
     "data": {
      "text/plain": [
       "(array([[2551.  , 2058.  , 1887.  , ..., 1463.5 , 1385.5 , 1380.  ],\n",
       "        [ 324.5 ,  321.5 ,  290.25, ...,  214.5 ,  212.  ,  208.25],\n",
       "        [  92.5 ,   87.75,   87.5 , ...,   55.5 ,   54.  ,   52.25],\n",
       "        ...,\n",
       "        [ 285.  ,  269.  ,  260.  , ...,  218.  ,  217.  ,  213.  ],\n",
       "        [7691.  , 6472.  , 6365.5 , ..., 3376.5 , 3308.  , 3276.25],\n",
       "        [ 171.  ,  158.25,  145.5 , ...,   97.5 ,   95.  ,   94.25]]),\n",
       " array([[413, 598, 287, ...,  44, 306, 602],\n",
       "        [413, 248, 447, ..., 121, 494, 351],\n",
       "        [312, 413, 609, ...,   0, 602, 376],\n",
       "        ...,\n",
       "        [413,  42, 469, ..., 173, 473,  57],\n",
       "        [413, 248, 379, ..., 386,  17, 533],\n",
       "        [338, 482, 304, ...,  14, 121, 317]]))"
      ]
     },
     "execution_count": 26,
     "metadata": {},
     "output_type": "execute_result"
    }
   ],
   "source": [
    "similarities_dot, neighbors_dot"
   ]
  },
  {
   "cell_type": "code",
   "execution_count": 27,
   "metadata": {},
   "outputs": [
    {
     "data": {
      "application/vnd.jupyter.widget-view+json": {
       "model_id": "914071e6ddce4389986ae1239aabc249",
       "version_major": 2,
       "version_minor": 0
      },
      "text/plain": [
       "  0%|          | 0/186355 [00:00<?, ?it/s]"
      ]
     },
     "metadata": {},
     "output_type": "display_data"
    }
   ],
   "source": [
    "similarities_pearson, neighbors_pearson = calculate_similaritites(np_ratings, pearson_similarity)"
   ]
  },
  {
   "cell_type": "code",
   "execution_count": 29,
   "metadata": {},
   "outputs": [
    {
     "data": {
      "text/plain": [
       "(array([[0.55741759, 0.55050629, 0.52861097, ..., 0.32074052, 0.3146402 ,\n",
       "         0.29163171],\n",
       "        [0.17516731, 0.15711062, 0.10913393, ..., 0.06405239, 0.0589808 ,\n",
       "         0.05827584],\n",
       "        [0.13600822, 0.11343786, 0.10670146, ..., 0.05241202, 0.05196966,\n",
       "         0.05152555],\n",
       "        ...,\n",
       "        [0.24754421, 0.23682837, 0.17881734, ..., 0.11594025, 0.1155362 ,\n",
       "         0.11543306],\n",
       "        [0.63829059, 0.59091475, 0.54222693, ..., 0.32411931, 0.32384218,\n",
       "         0.3182407 ],\n",
       "        [0.13305503, 0.0975438 , 0.09459207, ..., 0.06      , 0.05835638,\n",
       "         0.05800152]]),\n",
       " array([[451, 121, 596, ..., 233,  44, 533],\n",
       "        [609, 110, 479, ..., 536, 550,   9],\n",
       "        [598,  67,  27, ..., 327, 524, 291],\n",
       "        ...,\n",
       "        [599,  53, 346, ..., 329, 132, 306],\n",
       "        [121,  94, 361, ..., 414, 185, 248],\n",
       "        [482, 572, 494, ..., 153, 476, 458]]))"
      ]
     },
     "execution_count": 29,
     "metadata": {},
     "output_type": "execute_result"
    }
   ],
   "source": [
    "similarities_pearson, neighbors_pearson"
   ]
  },
  {
   "cell_type": "markdown",
   "metadata": {},
   "source": [
    "### Part 2\n",
    "Implement collaborative filtering schemes based on similarities:\n",
    "1. Simple nearest-neighbour averaging\n",
    "2. Averaging taking into account the mean correction"
   ]
  },
  {
   "cell_type": "markdown",
   "metadata": {},
   "source": [
    "#### 1. Simple nearest-neighbour averaging"
   ]
  },
  {
   "cell_type": "markdown",
   "metadata": {},
   "source": [
    "\\begin{equation}\n",
    "     \\hat{r}_{u,i}=\\frac{\\sum_{v\\in G_u}r_{v,i}\\cdot{w_{u,v}}}{\\sum_{v\\in G_u}|w_{u,v}|}.\n",
    "\\end{equation}"
   ]
  },
  {
   "cell_type": "code",
   "execution_count": 30,
   "metadata": {},
   "outputs": [],
   "source": [
    "def avg_predict(np_ratings, similarities, neighbours, mean, userid, itemid):\n",
    "    \"\"\"\n",
    "    predict what score userid would have given to itemid.\n",
    "    \n",
    "    :param\n",
    "        - userid : user id for which we want to make prediction\n",
    "        - itemid : item id on which we want to make prediction\n",
    "        \n",
    "    :return\n",
    "        - r_hat : predicted rating of user userid on item itemid\n",
    "    \"\"\"\n",
    "    user_similarities = similarities[userid]\n",
    "    user_neighbors = neighbours[userid]\n",
    "\n",
    "    # find users who rated item 'itemid'\n",
    "    iratings = np_ratings[np_ratings[:, 1].astype('int') == itemid]\n",
    "    \n",
    "    # find similar users to 'userid' who rated item 'itemid'\n",
    "    suri = iratings[np.isin(iratings[:, 0], user_neighbors)]\n",
    "\n",
    "    # similar users who rated current item\n",
    "    indexes = [np.where(user_neighbors == uid)[0][0] for uid in suri[:, 0].astype('int')]\n",
    "    sims = user_similarities[indexes]\n",
    "    \n",
    "    num = np.dot(suri[:, 2], sims)\n",
    "    den = np.sum(np.abs(sims))\n",
    "    \n",
    "    if num == 0 or den == 0:\n",
    "        return mean[userid]\n",
    "    \n",
    "    r_hat = np.dot(suri[:, 2], sims) / np.sum(np.abs(sims))\n",
    "    \n",
    "    return r_hat"
   ]
  },
  {
   "cell_type": "markdown",
   "metadata": {},
   "source": [
    "#### 2. Averaging taking into account the mean correction"
   ]
  },
  {
   "cell_type": "markdown",
   "metadata": {},
   "source": [
    "\\begin{equation}\n",
    "    \\hat{r}_{u,i}=\\bar{r}_u + \\frac{\\sum_{v\\in G_u}(r_{v,i}-\\bar{r}_v)\\cdot{w_{u,v}}}{\\sum_{v\\in G_u}|w_{u,v}|}.\n",
    "\\end{equation}"
   ]
  },
  {
   "cell_type": "code",
   "execution_count": 31,
   "metadata": {},
   "outputs": [],
   "source": [
    "# mean ratings for each user\n",
    "ratings = pd.DataFrame(np_ratings)\n",
    "ratings.columns = ['userid', 'itemid', 'rating', 'norm_rating']\n",
    "ratings.drop(columns=['norm_rating'], inplace=True)\n",
    "mean = ratings.groupby(by='userid', as_index=False)['rating'].mean()\n",
    "mean_ratings = pd.merge(ratings, mean, suffixes=('','_mean'), on='userid')\n",
    "\n",
    "# normalized ratings for each items\n",
    "mean_ratings['norm_rating'] = mean_ratings['rating'] - mean_ratings['rating_mean']\n",
    "\n",
    "mean = mean.to_numpy()[:, 1]"
   ]
  },
  {
   "cell_type": "code",
   "execution_count": 32,
   "metadata": {},
   "outputs": [],
   "source": [
    "np_ratings = mean_ratings.to_numpy()"
   ]
  },
  {
   "cell_type": "code",
   "execution_count": 33,
   "metadata": {},
   "outputs": [],
   "source": [
    "def mean_avg_predict(np_ratings, similarities, neighbours, mean, userid, itemid):\n",
    "    \"\"\"\n",
    "    predict what score userid would have given to itemid.\n",
    "    \n",
    "    :param\n",
    "        - userid : user id for which we want to make prediction\n",
    "        - itemid : item id on which we want to make prediction\n",
    "        \n",
    "    :return\n",
    "        - r_hat : predicted rating of user userid on item itemid\n",
    "    \"\"\"\n",
    "    user_similarities = similarities[userid]\n",
    "    user_neighbors = neighbours[userid]\n",
    "\n",
    "    # find users who rated item 'itemid'\n",
    "    iratings = np_ratings[np_ratings[:, 1].astype('int') == itemid]\n",
    "    \n",
    "    # find similar users to 'userid' who rated item 'itemid'\n",
    "    suri = iratings[np.isin(iratings[:, 0], user_neighbors)]\n",
    "\n",
    "    # similar users who rated current item\n",
    "    indexes = [np.where(user_neighbors == uid)[0][0] for uid in suri[:, 0].astype('int')]\n",
    "    sims = user_similarities[indexes]\n",
    "\n",
    "    num = np.dot(suri[:, 4], sims)\n",
    "    den = np.sum(np.abs(sims))\n",
    "    \n",
    "    if num == 0 or den == 0:\n",
    "        return mean[userid]\n",
    "    \n",
    "    r_hat = mean[userid] + np.dot(suri[:, 4], sims) / np.sum(np.abs(sims))\n",
    "    \n",
    "    return r_hat"
   ]
  },
  {
   "cell_type": "code",
   "execution_count": 34,
   "metadata": {},
   "outputs": [
    {
     "data": {
      "text/plain": [
       "2.9166036756096516"
      ]
     },
     "execution_count": 34,
     "metadata": {},
     "output_type": "execute_result"
    }
   ],
   "source": [
    "mean_avg_predict(np_ratings, similarities_pearson, neighbors_pearson, mean, 120, 4)"
   ]
  },
  {
   "cell_type": "markdown",
   "metadata": {},
   "source": [
    "### Part 3\n",
    "1. Build recommendations for users from the validation part\n",
    "2. Select 10 to 50 of your favourite films (can be exported from Kinopoisk or IMDB)\n",
    "3. Calculate the top 10 recommendations for each of the 6 methods."
   ]
  },
  {
   "cell_type": "markdown",
   "metadata": {},
   "source": [
    "**Find candidate items**"
   ]
  },
  {
   "cell_type": "code",
   "execution_count": 35,
   "metadata": {},
   "outputs": [],
   "source": [
    "def find_candidate_items(ratings, neighbours, userid, n=10):\n",
    "    \"\"\"\n",
    "    Find candidate items for an active user\n",
    "    \n",
    "    :param userid : active user\n",
    "    :param neighbors : users similar to the active user        \n",
    "    :return candidates : top n of candidate items\n",
    "    \"\"\"\n",
    "    user_neighbors = neighbours[userid]\n",
    "    activities = ratings.loc[ratings.userid.isin(user_neighbors)]\n",
    "    \n",
    "    # sort items in decreasing order of frequency\n",
    "    frequency = activities.groupby('itemid')['rating'].count().reset_index(name='count').sort_values(['count'], ascending=False)\n",
    "    Gu_items = frequency.itemid\n",
    "    active_items = ratings.loc[ratings.userid == userid].itemid.to_list()\n",
    "    candidates = np.setdiff1d(Gu_items, active_items, assume_unique=True)[:n]\n",
    "        \n",
    "    return candidates"
   ]
  },
  {
   "cell_type": "markdown",
   "metadata": {},
   "source": [
    "**Predictions**"
   ]
  },
  {
   "cell_type": "code",
   "execution_count": 36,
   "metadata": {},
   "outputs": [],
   "source": [
    "def user2userPredictions(\n",
    "        users, ratings, np_ratings, similarities, neighbours, predict, n=10\n",
    "    ):\n",
    "    \"\"\"\n",
    "    Make rating prediction for all users on each candidate item\n",
    "    \"\"\"    \n",
    "\n",
    "    # loop over users to make predictions\n",
    "    preds = (\n",
    "        (\n",
    "            userid, \n",
    "            itemid, \n",
    "            predict(\n",
    "                np_ratings, \n",
    "                similarities, \n",
    "                neighbours, \n",
    "                mean, \n",
    "                userid, \n",
    "                itemid\n",
    "            )\n",
    "        )\n",
    "        for userid in np.unique(users)\n",
    "        for itemid in find_candidate_items(ratings, neighbours, userid, n)\n",
    "    )\n",
    "\n",
    "    preds = pd.DataFrame(\n",
    "            dict(zip((\"userid\", \"itemid\", \"predicted_rating\"), zip(*preds)))\n",
    "        )\n",
    "\n",
    "    return pd.merge(preds, movies[['itemid', 'title']], on='itemid', how='inner')"
   ]
  },
  {
   "cell_type": "markdown",
   "metadata": {},
   "source": [
    "**Predictions for users from validation part**"
   ]
  },
  {
   "cell_type": "code",
   "execution_count": 37,
   "metadata": {},
   "outputs": [],
   "source": [
    "preds = user2userPredictions(x_test[:, 0], ratings, np_ratings, similarities_jaccard, neighbors_jaccard, mean_avg_predict, n=10)"
   ]
  },
  {
   "cell_type": "code",
   "execution_count": null,
   "metadata": {},
   "outputs": [],
   "source": [
    "preds.sort_values(\"predicted_rating\", ascending=False).groupby(\"userid\").apply(print)"
   ]
  },
  {
   "cell_type": "markdown",
   "metadata": {},
   "source": [
    "**Evaluation with NDCG**"
   ]
  },
  {
   "cell_type": "code",
   "execution_count": 45,
   "metadata": {},
   "outputs": [],
   "source": [
    "from sklearn.metrics import ndcg_score"
   ]
  },
  {
   "cell_type": "code",
   "execution_count": 46,
   "metadata": {},
   "outputs": [],
   "source": [
    "def evaluate(x_test, y_test, np_ratings, similarities, neighbours, predict):\n",
    "    print('Evaluate the model on {} test data ...'.format(x_test.shape[0]))\n",
    "    users = np.unique(x_test[:, 0])\n",
    "    ndcg_scores = []\n",
    "    for u in users:\n",
    "        items = x_test[x_test[:, 0] == u, 1]\n",
    "        y_score = [list(predict(np_ratings, similarities, neighbours, mean, u, i) for i in items)]\n",
    "        y_true = [y_test[x_test[:, 0] == u]]\n",
    "        ndcg_scores.append(ndcg_score(y_true, y_score, k=10))\n",
    "\n",
    "    print('\\nAverage NDCG :', np.mean(ndcg_scores))"
   ]
  },
  {
   "cell_type": "markdown",
   "metadata": {},
   "source": [
    "**Simple nearest-neighbour averaging with jaccard similarity**"
   ]
  },
  {
   "cell_type": "code",
   "execution_count": 47,
   "metadata": {},
   "outputs": [
    {
     "name": "stdout",
     "output_type": "stream",
     "text": [
      "Evaluate the model on 8560 test data ...\n",
      "\n",
      "Average NDCG : 0.8700162755969616\n"
     ]
    }
   ],
   "source": [
    "evaluate(x_test, y_test, np_ratings, similarities_jaccard, neighbors_jaccard, avg_predict)"
   ]
  },
  {
   "cell_type": "markdown",
   "metadata": {},
   "source": [
    "**Simple nearest-neighbour averaging with dot product similarity**"
   ]
  },
  {
   "cell_type": "code",
   "execution_count": 122,
   "metadata": {},
   "outputs": [
    {
     "name": "stdout",
     "output_type": "stream",
     "text": [
      "Evaluate the model on 8560 test data ...\n",
      "\n",
      "Average NDCG : 0.8846237502700076\n"
     ]
    }
   ],
   "source": [
    "evaluate(x_test, y_test, np_ratings, similarities_dot, neighbors_dot, avg_predict)"
   ]
  },
  {
   "cell_type": "markdown",
   "metadata": {},
   "source": [
    "**Simple nearest-neighbour averaging with pearson similarity**"
   ]
  },
  {
   "cell_type": "code",
   "execution_count": 123,
   "metadata": {},
   "outputs": [
    {
     "name": "stdout",
     "output_type": "stream",
     "text": [
      "Evaluate the model on 8560 test data ...\n",
      "\n",
      "Average NDCG : 0.8731575485756966\n"
     ]
    }
   ],
   "source": [
    "evaluate(x_test, y_test, np_ratings, similarities_pearson, neighbors_pearson, avg_predict)"
   ]
  },
  {
   "cell_type": "markdown",
   "metadata": {},
   "source": [
    "**Averaging taking into account the mean correction with jaccard similarity**"
   ]
  },
  {
   "cell_type": "code",
   "execution_count": 124,
   "metadata": {},
   "outputs": [
    {
     "name": "stdout",
     "output_type": "stream",
     "text": [
      "Evaluate the model on 8560 test data ...\n",
      "\n",
      "Average NDCG : 0.871534803820199\n"
     ]
    }
   ],
   "source": [
    "evaluate(x_test, y_test, np_ratings, similarities_jaccard, neighbors_jaccard, mean_avg_predict)"
   ]
  },
  {
   "cell_type": "markdown",
   "metadata": {},
   "source": [
    "**Averaging taking into account the mean correction with dot product similarity**"
   ]
  },
  {
   "cell_type": "code",
   "execution_count": 125,
   "metadata": {},
   "outputs": [
    {
     "name": "stdout",
     "output_type": "stream",
     "text": [
      "Evaluate the model on 8560 test data ...\n",
      "\n",
      "Average NDCG : 0.8838777529346217\n"
     ]
    }
   ],
   "source": [
    "evaluate(x_test, y_test, np_ratings, similarities_dot, neighbors_dot, mean_avg_predict)"
   ]
  },
  {
   "cell_type": "markdown",
   "metadata": {},
   "source": [
    "**Averaging taking into account the mean correction with pearson similarity**"
   ]
  },
  {
   "cell_type": "code",
   "execution_count": 48,
   "metadata": {},
   "outputs": [
    {
     "name": "stdout",
     "output_type": "stream",
     "text": [
      "Evaluate the model on 8560 test data ...\n",
      "\n",
      "Average NDCG : 0.8699603697286178\n"
     ]
    }
   ],
   "source": [
    "evaluate(x_test, y_test, np_ratings, similarities_pearson, neighbors_pearson, mean_avg_predict)"
   ]
  },
  {
   "cell_type": "markdown",
   "metadata": {},
   "source": [
    "### Calculating the top 10 recommendations using each of the 6 methods for my user profile"
   ]
  },
  {
   "cell_type": "code",
   "execution_count": 127,
   "metadata": {},
   "outputs": [
    {
     "data": {
      "text/plain": [
       "610"
      ]
     },
     "execution_count": 127,
     "metadata": {},
     "output_type": "execute_result"
    }
   ],
   "source": [
    "user = np_ratings[:, 0].astype(int).max()\n",
    "user"
   ]
  },
  {
   "cell_type": "markdown",
   "metadata": {},
   "source": [
    "**Simple nearest-neighbour averaging with jaccard similarity**"
   ]
  },
  {
   "cell_type": "code",
   "execution_count": 128,
   "metadata": {},
   "outputs": [
    {
     "data": {
      "text/html": [
       "<div>\n",
       "<style scoped>\n",
       "    .dataframe tbody tr th:only-of-type {\n",
       "        vertical-align: middle;\n",
       "    }\n",
       "\n",
       "    .dataframe tbody tr th {\n",
       "        vertical-align: top;\n",
       "    }\n",
       "\n",
       "    .dataframe thead th {\n",
       "        text-align: right;\n",
       "    }\n",
       "</style>\n",
       "<table border=\"1\" class=\"dataframe\">\n",
       "  <thead>\n",
       "    <tr style=\"text-align: right;\">\n",
       "      <th></th>\n",
       "      <th>userid</th>\n",
       "      <th>itemid</th>\n",
       "      <th>predicted_rating</th>\n",
       "      <th>title</th>\n",
       "    </tr>\n",
       "  </thead>\n",
       "  <tbody>\n",
       "    <tr>\n",
       "      <th>3</th>\n",
       "      <td>610</td>\n",
       "      <td>461.0</td>\n",
       "      <td>4.496008</td>\n",
       "      <td>Go Fish (1994)</td>\n",
       "    </tr>\n",
       "    <tr>\n",
       "      <th>5</th>\n",
       "      <td>610</td>\n",
       "      <td>7022.0</td>\n",
       "      <td>4.382666</td>\n",
       "      <td>Battle Royale (Batoru rowaiaru) (2000)</td>\n",
       "    </tr>\n",
       "    <tr>\n",
       "      <th>1</th>\n",
       "      <td>610</td>\n",
       "      <td>3633.0</td>\n",
       "      <td>4.224269</td>\n",
       "      <td>On Her Majesty's Secret Service (1969)</td>\n",
       "    </tr>\n",
       "    <tr>\n",
       "      <th>0</th>\n",
       "      <td>610</td>\n",
       "      <td>1938.0</td>\n",
       "      <td>4.181072</td>\n",
       "      <td>Lost Weekend, The (1945)</td>\n",
       "    </tr>\n",
       "    <tr>\n",
       "      <th>2</th>\n",
       "      <td>610</td>\n",
       "      <td>4131.0</td>\n",
       "      <td>4.157123</td>\n",
       "      <td>Making Mr. Right (1987)</td>\n",
       "    </tr>\n",
       "    <tr>\n",
       "      <th>4</th>\n",
       "      <td>610</td>\n",
       "      <td>277.0</td>\n",
       "      <td>4.006365</td>\n",
       "      <td>Miracle on 34th Street (1994)</td>\n",
       "    </tr>\n",
       "  </tbody>\n",
       "</table>\n",
       "</div>"
      ],
      "text/plain": [
       "   userid  itemid  predicted_rating                                   title\n",
       "3     610   461.0          4.496008                          Go Fish (1994)\n",
       "5     610  7022.0          4.382666  Battle Royale (Batoru rowaiaru) (2000)\n",
       "1     610  3633.0          4.224269  On Her Majesty's Secret Service (1969)\n",
       "0     610  1938.0          4.181072                Lost Weekend, The (1945)\n",
       "2     610  4131.0          4.157123                 Making Mr. Right (1987)\n",
       "4     610   277.0          4.006365           Miracle on 34th Street (1994)"
      ]
     },
     "execution_count": 128,
     "metadata": {},
     "output_type": "execute_result"
    }
   ],
   "source": [
    "preds = user2userPredictions(user, ratings, np_ratings, similarities_jaccard, neighbors_jaccard, avg_predict, n=10)\n",
    "preds.sort_values(\"predicted_rating\", ascending=False)"
   ]
  },
  {
   "cell_type": "markdown",
   "metadata": {},
   "source": [
    "**Simple nearest-neighbour averaging with dot product similarity**"
   ]
  },
  {
   "cell_type": "code",
   "execution_count": 129,
   "metadata": {},
   "outputs": [
    {
     "data": {
      "text/html": [
       "<div>\n",
       "<style scoped>\n",
       "    .dataframe tbody tr th:only-of-type {\n",
       "        vertical-align: middle;\n",
       "    }\n",
       "\n",
       "    .dataframe tbody tr th {\n",
       "        vertical-align: top;\n",
       "    }\n",
       "\n",
       "    .dataframe thead th {\n",
       "        text-align: right;\n",
       "    }\n",
       "</style>\n",
       "<table border=\"1\" class=\"dataframe\">\n",
       "  <thead>\n",
       "    <tr style=\"text-align: right;\">\n",
       "      <th></th>\n",
       "      <th>userid</th>\n",
       "      <th>itemid</th>\n",
       "      <th>predicted_rating</th>\n",
       "      <th>title</th>\n",
       "    </tr>\n",
       "  </thead>\n",
       "  <tbody>\n",
       "    <tr>\n",
       "      <th>6</th>\n",
       "      <td>610</td>\n",
       "      <td>6755.0</td>\n",
       "      <td>4.574293</td>\n",
       "      <td>Bubba Ho-tep (2002)</td>\n",
       "    </tr>\n",
       "    <tr>\n",
       "      <th>0</th>\n",
       "      <td>610</td>\n",
       "      <td>277.0</td>\n",
       "      <td>4.438715</td>\n",
       "      <td>Miracle on 34th Street (1994)</td>\n",
       "    </tr>\n",
       "    <tr>\n",
       "      <th>1</th>\n",
       "      <td>610</td>\n",
       "      <td>8045.0</td>\n",
       "      <td>4.399481</td>\n",
       "      <td>Hamburger Hill (1987)</td>\n",
       "    </tr>\n",
       "    <tr>\n",
       "      <th>5</th>\n",
       "      <td>610</td>\n",
       "      <td>43.0</td>\n",
       "      <td>4.352351</td>\n",
       "      <td>Restoration (1995)</td>\n",
       "    </tr>\n",
       "    <tr>\n",
       "      <th>7</th>\n",
       "      <td>610</td>\n",
       "      <td>1502.0</td>\n",
       "      <td>4.348523</td>\n",
       "      <td>Kissed (1996)</td>\n",
       "    </tr>\n",
       "    <tr>\n",
       "      <th>2</th>\n",
       "      <td>610</td>\n",
       "      <td>4153.0</td>\n",
       "      <td>4.315848</td>\n",
       "      <td>Down to Earth (2001)</td>\n",
       "    </tr>\n",
       "    <tr>\n",
       "      <th>8</th>\n",
       "      <td>610</td>\n",
       "      <td>3633.0</td>\n",
       "      <td>4.205886</td>\n",
       "      <td>On Her Majesty's Secret Service (1969)</td>\n",
       "    </tr>\n",
       "    <tr>\n",
       "      <th>4</th>\n",
       "      <td>610</td>\n",
       "      <td>7022.0</td>\n",
       "      <td>4.164045</td>\n",
       "      <td>Battle Royale (Batoru rowaiaru) (2000)</td>\n",
       "    </tr>\n",
       "    <tr>\n",
       "      <th>3</th>\n",
       "      <td>610</td>\n",
       "      <td>4131.0</td>\n",
       "      <td>4.116172</td>\n",
       "      <td>Making Mr. Right (1987)</td>\n",
       "    </tr>\n",
       "  </tbody>\n",
       "</table>\n",
       "</div>"
      ],
      "text/plain": [
       "   userid  itemid  predicted_rating                                   title\n",
       "6     610  6755.0          4.574293                     Bubba Ho-tep (2002)\n",
       "0     610   277.0          4.438715           Miracle on 34th Street (1994)\n",
       "1     610  8045.0          4.399481                   Hamburger Hill (1987)\n",
       "5     610    43.0          4.352351                      Restoration (1995)\n",
       "7     610  1502.0          4.348523                           Kissed (1996)\n",
       "2     610  4153.0          4.315848                    Down to Earth (2001)\n",
       "8     610  3633.0          4.205886  On Her Majesty's Secret Service (1969)\n",
       "4     610  7022.0          4.164045  Battle Royale (Batoru rowaiaru) (2000)\n",
       "3     610  4131.0          4.116172                 Making Mr. Right (1987)"
      ]
     },
     "execution_count": 129,
     "metadata": {},
     "output_type": "execute_result"
    }
   ],
   "source": [
    "preds = user2userPredictions(user, ratings, np_ratings, similarities_dot, neighbors_dot, avg_predict, n=10)\n",
    "preds.sort_values(\"predicted_rating\", ascending=False)"
   ]
  },
  {
   "cell_type": "markdown",
   "metadata": {},
   "source": [
    "**Simple nearest-neighbour averaging with pearson similarity**"
   ]
  },
  {
   "cell_type": "code",
   "execution_count": 130,
   "metadata": {},
   "outputs": [
    {
     "data": {
      "text/html": [
       "<div>\n",
       "<style scoped>\n",
       "    .dataframe tbody tr th:only-of-type {\n",
       "        vertical-align: middle;\n",
       "    }\n",
       "\n",
       "    .dataframe tbody tr th {\n",
       "        vertical-align: top;\n",
       "    }\n",
       "\n",
       "    .dataframe thead th {\n",
       "        text-align: right;\n",
       "    }\n",
       "</style>\n",
       "<table border=\"1\" class=\"dataframe\">\n",
       "  <thead>\n",
       "    <tr style=\"text-align: right;\">\n",
       "      <th></th>\n",
       "      <th>userid</th>\n",
       "      <th>itemid</th>\n",
       "      <th>predicted_rating</th>\n",
       "      <th>title</th>\n",
       "    </tr>\n",
       "  </thead>\n",
       "  <tbody>\n",
       "    <tr>\n",
       "      <th>7</th>\n",
       "      <td>610</td>\n",
       "      <td>314.0</td>\n",
       "      <td>4.615036</td>\n",
       "      <td>Secret of Roan Inish, The (1994)</td>\n",
       "    </tr>\n",
       "    <tr>\n",
       "      <th>8</th>\n",
       "      <td>610</td>\n",
       "      <td>277.0</td>\n",
       "      <td>4.598156</td>\n",
       "      <td>Miracle on 34th Street (1994)</td>\n",
       "    </tr>\n",
       "    <tr>\n",
       "      <th>4</th>\n",
       "      <td>610</td>\n",
       "      <td>6755.0</td>\n",
       "      <td>4.564343</td>\n",
       "      <td>Bubba Ho-tep (2002)</td>\n",
       "    </tr>\n",
       "    <tr>\n",
       "      <th>0</th>\n",
       "      <td>610</td>\n",
       "      <td>1938.0</td>\n",
       "      <td>4.540696</td>\n",
       "      <td>Lost Weekend, The (1945)</td>\n",
       "    </tr>\n",
       "    <tr>\n",
       "      <th>6</th>\n",
       "      <td>610</td>\n",
       "      <td>4153.0</td>\n",
       "      <td>4.389718</td>\n",
       "      <td>Down to Earth (2001)</td>\n",
       "    </tr>\n",
       "    <tr>\n",
       "      <th>3</th>\n",
       "      <td>610</td>\n",
       "      <td>3633.0</td>\n",
       "      <td>4.224675</td>\n",
       "      <td>On Her Majesty's Secret Service (1969)</td>\n",
       "    </tr>\n",
       "    <tr>\n",
       "      <th>5</th>\n",
       "      <td>610</td>\n",
       "      <td>2077.0</td>\n",
       "      <td>4.220775</td>\n",
       "      <td>Journey of Natty Gann, The (1985)</td>\n",
       "    </tr>\n",
       "    <tr>\n",
       "      <th>1</th>\n",
       "      <td>610</td>\n",
       "      <td>4131.0</td>\n",
       "      <td>4.088517</td>\n",
       "      <td>Making Mr. Right (1987)</td>\n",
       "    </tr>\n",
       "    <tr>\n",
       "      <th>2</th>\n",
       "      <td>610</td>\n",
       "      <td>3189.0</td>\n",
       "      <td>3.903925</td>\n",
       "      <td>My Dog Skip (1999)</td>\n",
       "    </tr>\n",
       "  </tbody>\n",
       "</table>\n",
       "</div>"
      ],
      "text/plain": [
       "   userid  itemid  predicted_rating                                   title\n",
       "7     610   314.0          4.615036        Secret of Roan Inish, The (1994)\n",
       "8     610   277.0          4.598156           Miracle on 34th Street (1994)\n",
       "4     610  6755.0          4.564343                     Bubba Ho-tep (2002)\n",
       "0     610  1938.0          4.540696                Lost Weekend, The (1945)\n",
       "6     610  4153.0          4.389718                    Down to Earth (2001)\n",
       "3     610  3633.0          4.224675  On Her Majesty's Secret Service (1969)\n",
       "5     610  2077.0          4.220775       Journey of Natty Gann, The (1985)\n",
       "1     610  4131.0          4.088517                 Making Mr. Right (1987)\n",
       "2     610  3189.0          3.903925                      My Dog Skip (1999)"
      ]
     },
     "execution_count": 130,
     "metadata": {},
     "output_type": "execute_result"
    }
   ],
   "source": [
    "preds = user2userPredictions(user, ratings, np_ratings, similarities_pearson, neighbors_pearson, avg_predict, n=10)\n",
    "preds.sort_values(\"predicted_rating\", ascending=False)"
   ]
  },
  {
   "cell_type": "markdown",
   "metadata": {},
   "source": [
    "**Averaging taking into account the mean correction with jaccard similarity**"
   ]
  },
  {
   "cell_type": "code",
   "execution_count": 131,
   "metadata": {},
   "outputs": [
    {
     "data": {
      "text/html": [
       "<div>\n",
       "<style scoped>\n",
       "    .dataframe tbody tr th:only-of-type {\n",
       "        vertical-align: middle;\n",
       "    }\n",
       "\n",
       "    .dataframe tbody tr th {\n",
       "        vertical-align: top;\n",
       "    }\n",
       "\n",
       "    .dataframe thead th {\n",
       "        text-align: right;\n",
       "    }\n",
       "</style>\n",
       "<table border=\"1\" class=\"dataframe\">\n",
       "  <thead>\n",
       "    <tr style=\"text-align: right;\">\n",
       "      <th></th>\n",
       "      <th>userid</th>\n",
       "      <th>itemid</th>\n",
       "      <th>predicted_rating</th>\n",
       "      <th>title</th>\n",
       "    </tr>\n",
       "  </thead>\n",
       "  <tbody>\n",
       "    <tr>\n",
       "      <th>3</th>\n",
       "      <td>610</td>\n",
       "      <td>461.0</td>\n",
       "      <td>5.079314</td>\n",
       "      <td>Go Fish (1994)</td>\n",
       "    </tr>\n",
       "    <tr>\n",
       "      <th>5</th>\n",
       "      <td>610</td>\n",
       "      <td>7022.0</td>\n",
       "      <td>5.023073</td>\n",
       "      <td>Battle Royale (Batoru rowaiaru) (2000)</td>\n",
       "    </tr>\n",
       "    <tr>\n",
       "      <th>1</th>\n",
       "      <td>610</td>\n",
       "      <td>3633.0</td>\n",
       "      <td>4.979636</td>\n",
       "      <td>On Her Majesty's Secret Service (1969)</td>\n",
       "    </tr>\n",
       "    <tr>\n",
       "      <th>2</th>\n",
       "      <td>610</td>\n",
       "      <td>4131.0</td>\n",
       "      <td>4.941626</td>\n",
       "      <td>Making Mr. Right (1987)</td>\n",
       "    </tr>\n",
       "    <tr>\n",
       "      <th>0</th>\n",
       "      <td>610</td>\n",
       "      <td>1938.0</td>\n",
       "      <td>4.919349</td>\n",
       "      <td>Lost Weekend, The (1945)</td>\n",
       "    </tr>\n",
       "    <tr>\n",
       "      <th>4</th>\n",
       "      <td>610</td>\n",
       "      <td>277.0</td>\n",
       "      <td>4.799313</td>\n",
       "      <td>Miracle on 34th Street (1994)</td>\n",
       "    </tr>\n",
       "  </tbody>\n",
       "</table>\n",
       "</div>"
      ],
      "text/plain": [
       "   userid  itemid  predicted_rating                                   title\n",
       "3     610   461.0          5.079314                          Go Fish (1994)\n",
       "5     610  7022.0          5.023073  Battle Royale (Batoru rowaiaru) (2000)\n",
       "1     610  3633.0          4.979636  On Her Majesty's Secret Service (1969)\n",
       "2     610  4131.0          4.941626                 Making Mr. Right (1987)\n",
       "0     610  1938.0          4.919349                Lost Weekend, The (1945)\n",
       "4     610   277.0          4.799313           Miracle on 34th Street (1994)"
      ]
     },
     "execution_count": 131,
     "metadata": {},
     "output_type": "execute_result"
    }
   ],
   "source": [
    "preds = user2userPredictions(user, ratings, np_ratings, similarities_jaccard, neighbors_jaccard, mean_avg_predict, n=10)\n",
    "preds.sort_values(\"predicted_rating\", ascending=False)"
   ]
  },
  {
   "cell_type": "markdown",
   "metadata": {},
   "source": [
    "**Averaging taking into account the mean correction with dot product similarity**"
   ]
  },
  {
   "cell_type": "code",
   "execution_count": 132,
   "metadata": {},
   "outputs": [
    {
     "data": {
      "text/html": [
       "<div>\n",
       "<style scoped>\n",
       "    .dataframe tbody tr th:only-of-type {\n",
       "        vertical-align: middle;\n",
       "    }\n",
       "\n",
       "    .dataframe tbody tr th {\n",
       "        vertical-align: top;\n",
       "    }\n",
       "\n",
       "    .dataframe thead th {\n",
       "        text-align: right;\n",
       "    }\n",
       "</style>\n",
       "<table border=\"1\" class=\"dataframe\">\n",
       "  <thead>\n",
       "    <tr style=\"text-align: right;\">\n",
       "      <th></th>\n",
       "      <th>userid</th>\n",
       "      <th>itemid</th>\n",
       "      <th>predicted_rating</th>\n",
       "      <th>title</th>\n",
       "    </tr>\n",
       "  </thead>\n",
       "  <tbody>\n",
       "    <tr>\n",
       "      <th>6</th>\n",
       "      <td>610</td>\n",
       "      <td>6755.0</td>\n",
       "      <td>5.504793</td>\n",
       "      <td>Bubba Ho-tep (2002)</td>\n",
       "    </tr>\n",
       "    <tr>\n",
       "      <th>0</th>\n",
       "      <td>610</td>\n",
       "      <td>277.0</td>\n",
       "      <td>5.481873</td>\n",
       "      <td>Miracle on 34th Street (1994)</td>\n",
       "    </tr>\n",
       "    <tr>\n",
       "      <th>1</th>\n",
       "      <td>610</td>\n",
       "      <td>8045.0</td>\n",
       "      <td>5.430696</td>\n",
       "      <td>Hamburger Hill (1987)</td>\n",
       "    </tr>\n",
       "    <tr>\n",
       "      <th>5</th>\n",
       "      <td>610</td>\n",
       "      <td>43.0</td>\n",
       "      <td>5.349343</td>\n",
       "      <td>Restoration (1995)</td>\n",
       "    </tr>\n",
       "    <tr>\n",
       "      <th>7</th>\n",
       "      <td>610</td>\n",
       "      <td>1502.0</td>\n",
       "      <td>5.345773</td>\n",
       "      <td>Kissed (1996)</td>\n",
       "    </tr>\n",
       "    <tr>\n",
       "      <th>2</th>\n",
       "      <td>610</td>\n",
       "      <td>4153.0</td>\n",
       "      <td>5.309285</td>\n",
       "      <td>Down to Earth (2001)</td>\n",
       "    </tr>\n",
       "    <tr>\n",
       "      <th>8</th>\n",
       "      <td>610</td>\n",
       "      <td>3633.0</td>\n",
       "      <td>5.237747</td>\n",
       "      <td>On Her Majesty's Secret Service (1969)</td>\n",
       "    </tr>\n",
       "    <tr>\n",
       "      <th>4</th>\n",
       "      <td>610</td>\n",
       "      <td>7022.0</td>\n",
       "      <td>5.156859</td>\n",
       "      <td>Battle Royale (Batoru rowaiaru) (2000)</td>\n",
       "    </tr>\n",
       "    <tr>\n",
       "      <th>3</th>\n",
       "      <td>610</td>\n",
       "      <td>4131.0</td>\n",
       "      <td>5.138244</td>\n",
       "      <td>Making Mr. Right (1987)</td>\n",
       "    </tr>\n",
       "  </tbody>\n",
       "</table>\n",
       "</div>"
      ],
      "text/plain": [
       "   userid  itemid  predicted_rating                                   title\n",
       "6     610  6755.0          5.504793                     Bubba Ho-tep (2002)\n",
       "0     610   277.0          5.481873           Miracle on 34th Street (1994)\n",
       "1     610  8045.0          5.430696                   Hamburger Hill (1987)\n",
       "5     610    43.0          5.349343                      Restoration (1995)\n",
       "7     610  1502.0          5.345773                           Kissed (1996)\n",
       "2     610  4153.0          5.309285                    Down to Earth (2001)\n",
       "8     610  3633.0          5.237747  On Her Majesty's Secret Service (1969)\n",
       "4     610  7022.0          5.156859  Battle Royale (Batoru rowaiaru) (2000)\n",
       "3     610  4131.0          5.138244                 Making Mr. Right (1987)"
      ]
     },
     "execution_count": 132,
     "metadata": {},
     "output_type": "execute_result"
    }
   ],
   "source": [
    "preds = user2userPredictions(user, ratings, np_ratings, similarities_dot, neighbors_dot, mean_avg_predict, n=10)\n",
    "preds.sort_values(\"predicted_rating\", ascending=False)"
   ]
  },
  {
   "cell_type": "markdown",
   "metadata": {},
   "source": [
    "**Averaging taking into account the mean correction with pearson similarity**"
   ]
  },
  {
   "cell_type": "code",
   "execution_count": 133,
   "metadata": {},
   "outputs": [
    {
     "data": {
      "text/html": [
       "<div>\n",
       "<style scoped>\n",
       "    .dataframe tbody tr th:only-of-type {\n",
       "        vertical-align: middle;\n",
       "    }\n",
       "\n",
       "    .dataframe tbody tr th {\n",
       "        vertical-align: top;\n",
       "    }\n",
       "\n",
       "    .dataframe thead th {\n",
       "        text-align: right;\n",
       "    }\n",
       "</style>\n",
       "<table border=\"1\" class=\"dataframe\">\n",
       "  <thead>\n",
       "    <tr style=\"text-align: right;\">\n",
       "      <th></th>\n",
       "      <th>userid</th>\n",
       "      <th>itemid</th>\n",
       "      <th>predicted_rating</th>\n",
       "      <th>title</th>\n",
       "    </tr>\n",
       "  </thead>\n",
       "  <tbody>\n",
       "    <tr>\n",
       "      <th>8</th>\n",
       "      <td>610</td>\n",
       "      <td>277.0</td>\n",
       "      <td>5.549990</td>\n",
       "      <td>Miracle on 34th Street (1994)</td>\n",
       "    </tr>\n",
       "    <tr>\n",
       "      <th>7</th>\n",
       "      <td>610</td>\n",
       "      <td>314.0</td>\n",
       "      <td>5.459759</td>\n",
       "      <td>Secret of Roan Inish, The (1994)</td>\n",
       "    </tr>\n",
       "    <tr>\n",
       "      <th>0</th>\n",
       "      <td>610</td>\n",
       "      <td>1938.0</td>\n",
       "      <td>5.404431</td>\n",
       "      <td>Lost Weekend, The (1945)</td>\n",
       "    </tr>\n",
       "    <tr>\n",
       "      <th>4</th>\n",
       "      <td>610</td>\n",
       "      <td>6755.0</td>\n",
       "      <td>5.402233</td>\n",
       "      <td>Bubba Ho-tep (2002)</td>\n",
       "    </tr>\n",
       "    <tr>\n",
       "      <th>6</th>\n",
       "      <td>610</td>\n",
       "      <td>4153.0</td>\n",
       "      <td>5.270895</td>\n",
       "      <td>Down to Earth (2001)</td>\n",
       "    </tr>\n",
       "    <tr>\n",
       "      <th>3</th>\n",
       "      <td>610</td>\n",
       "      <td>3633.0</td>\n",
       "      <td>5.116891</td>\n",
       "      <td>On Her Majesty's Secret Service (1969)</td>\n",
       "    </tr>\n",
       "    <tr>\n",
       "      <th>5</th>\n",
       "      <td>610</td>\n",
       "      <td>2077.0</td>\n",
       "      <td>5.106807</td>\n",
       "      <td>Journey of Natty Gann, The (1985)</td>\n",
       "    </tr>\n",
       "    <tr>\n",
       "      <th>1</th>\n",
       "      <td>610</td>\n",
       "      <td>4131.0</td>\n",
       "      <td>4.980733</td>\n",
       "      <td>Making Mr. Right (1987)</td>\n",
       "    </tr>\n",
       "    <tr>\n",
       "      <th>2</th>\n",
       "      <td>610</td>\n",
       "      <td>3189.0</td>\n",
       "      <td>4.809725</td>\n",
       "      <td>My Dog Skip (1999)</td>\n",
       "    </tr>\n",
       "  </tbody>\n",
       "</table>\n",
       "</div>"
      ],
      "text/plain": [
       "   userid  itemid  predicted_rating                                   title\n",
       "8     610   277.0          5.549990           Miracle on 34th Street (1994)\n",
       "7     610   314.0          5.459759        Secret of Roan Inish, The (1994)\n",
       "0     610  1938.0          5.404431                Lost Weekend, The (1945)\n",
       "4     610  6755.0          5.402233                     Bubba Ho-tep (2002)\n",
       "6     610  4153.0          5.270895                    Down to Earth (2001)\n",
       "3     610  3633.0          5.116891  On Her Majesty's Secret Service (1969)\n",
       "5     610  2077.0          5.106807       Journey of Natty Gann, The (1985)\n",
       "1     610  4131.0          4.980733                 Making Mr. Right (1987)\n",
       "2     610  3189.0          4.809725                      My Dog Skip (1999)"
      ]
     },
     "execution_count": 133,
     "metadata": {},
     "output_type": "execute_result"
    }
   ],
   "source": [
    "preds = user2userPredictions(user, ratings, np_ratings, similarities_pearson, neighbors_pearson, mean_avg_predict, n=10)\n",
    "preds.sort_values(\"predicted_rating\", ascending=False)"
   ]
  },
  {
   "cell_type": "code",
   "execution_count": null,
   "metadata": {},
   "outputs": [],
   "source": []
  }
 ],
 "metadata": {
  "kernelspec": {
   "display_name": "Python 3 (ipykernel)",
   "language": "python",
   "name": "python3"
  },
  "language_info": {
   "codemirror_mode": {
    "name": "ipython",
    "version": 3
   },
   "file_extension": ".py",
   "mimetype": "text/x-python",
   "name": "python",
   "nbconvert_exporter": "python",
   "pygments_lexer": "ipython3",
   "version": "3.10.13"
  }
 },
 "nbformat": 4,
 "nbformat_minor": 2
}
